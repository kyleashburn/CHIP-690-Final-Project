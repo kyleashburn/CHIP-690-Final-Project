{
 "cells": [
  {
   "cell_type": "code",
   "execution_count": 1,
   "id": "10ccf326",
   "metadata": {},
   "outputs": [],
   "source": [
    "import os\n",
    "import sqlalchemy\n",
    "import numpy as np\n",
    "import pandas as pd\n",
    "import matplotlib.pyplot as plt\n",
    "import seaborn as sns\n",
    "\n",
    "%matplotlib inline"
   ]
  },
  {
   "cell_type": "code",
   "execution_count": 2,
   "id": "23ba99ec",
   "metadata": {},
   "outputs": [],
   "source": [
    "creds = pd.read_csv(\"sample_mimic_login_creds.csv\")\n",
    "myUserName = str(creds.iloc[0]['Username']).strip()\n",
    "myPassword = str(creds.iloc[0]['password']).strip()\n",
    "\n",
    "server_url = \"mimic-db.renci.unc.edu\"\n",
    "database = \"mimic\"\n",
    "\n",
    "# Create Connection String\n",
    "conn_str = f\"{myUserName}:{myPassword}@{server_url}/{database}\"\n",
    "\n",
    "# Create Engine\n",
    "engine = sqlalchemy.create_engine('postgresql://' + conn_str)"
   ]
  },
  {
   "cell_type": "code",
   "execution_count": 3,
   "id": "e9e541ae",
   "metadata": {},
   "outputs": [],
   "source": [
    "query = \"\"\"\n",
    "-- First step\n",
    "-- Pulls all the concept ids we need to care about\n",
    "WITH icd10_conc AS (\n",
    "SELECT * \n",
    "FROM omop.concept\n",
    "WHERE concept_code LIKE 'C17.%' OR concept_code LIKE 'C18.%' OR\n",
    "concept_code LIKE 'C21.%' OR  concept_code = 'Z86.010'\n",
    "),\n",
    "\n",
    "-- Second step \n",
    "-- Pulling the concepts\n",
    "-- We want to pull the concept_id_2 for each of these\n",
    "conc_maps AS (\n",
    "SELECT concept_id_2\n",
    "FROM omop.concept_relationship \n",
    "WHERE concept_id_1 in (SELECT concept_id FROM icd10_conc) \n",
    "AND relationship_id = 'Maps to'\n",
    "),\n",
    "\n",
    "-- third step -> ensuring all standard concepts\n",
    "-- ensuring these are all standard concepts\n",
    "stand_conc as (\n",
    "SELECT concept_id_2 as cond_conc_id\n",
    "FROM conc_maps cm\n",
    "INNER JOIN omop.concept co ON cm.concept_id_2 = co.concept_id\n",
    "WHERE co.standard_concept = 'S'\n",
    "),\n",
    "\n",
    "-- as of this point, the names are solid...\n",
    "\n",
    "-- checking to see if they are in the condition occurrence table\n",
    "canc_pats as (\n",
    "SELECT DISTINCT co.person_id, co.condition_concept_id, co.condition_source_value\n",
    "FROM omop.condition_occurrence co\n",
    "WHERE co.condition_concept_id IN (SELECT * FROM stand_conc)\n",
    "),\n",
    "\n",
    "-- checking to see how many deaths we have records for\n",
    "canc_deaths as (\n",
    "SELECT * \n",
    "FROM omop.death od\n",
    "WHERE od.person_id IN (SELECT person_id from canc_pats)\n",
    "),\n",
    "\n",
    "-- finding death dates\n",
    "death_date as (\n",
    "SELECT person_id, death_datetime\n",
    "FROM omop.death od\n",
    "WHERE od.person_id IN (SELECT person_id from canc_pats)\n",
    "),\n",
    "\n",
    "-- pulling max & min dates for patients -> range of records\n",
    "-- earliest visit start to latest visit end provides us with visit dif\n",
    "vis_max_min AS (\n",
    "SELECT vo.person_id, MIN(vo.visit_start_datetime) AS first_vis, \n",
    "MAX(vo.visit_end_datetime) AS last_vis\n",
    "FROM omop.visit_occurrence vo\n",
    "WHERE vo.person_id IN (SELECT person_id FROM canc_pats)\n",
    "GROUP BY vo.person_id\n",
    "),\n",
    "\n",
    "-- earliest procedure start to latest procedure end\n",
    "proc_max_min AS (\n",
    "SELECT po.person_id, MIN(po.procedure_datetime) AS first_proc , \n",
    "MAX(po.procedure_datetime) AS last_proc\n",
    "FROM omop.procedure_occurrence po\n",
    "WHERE po.person_id IN (SELECT person_id FROM canc_pats)\n",
    "GROUP BY po.person_id\n",
    "),\n",
    "\t\n",
    "-- earliest drug exposure start to latest drug exposure end\n",
    "drug_max_min AS (\n",
    "SELECT de.person_id, MIN(drug_exposure_start_datetime) AS first_drug,\n",
    "MAX(drug_exposure_end_datetime) AS last_drug\n",
    "FROM omop.drug_exposure de\n",
    "WHERE de.person_id IN (SELECT person_id FROM canc_pats)\n",
    "GROUP BY de.person_id\n",
    "),\n",
    "\t\n",
    "-- earliest measurement to latest measurement\n",
    "-- slows the running down though :(\n",
    "meas_max_min AS (\n",
    "SELECT om.person_id, MIN(om.measurement_datetime) AS first_meas, \n",
    "MAX(om.measurement_datetime) AS last_meas\n",
    "FROM omop.measurement om\n",
    "WHERE om.person_id IN (SELECT person_id FROM canc_pats)\n",
    "GROUP BY om.person_id\n",
    "),\n",
    "\n",
    "-- no device exposures so we can just ignore that...\n",
    "\n",
    "-- pulling the first and last datapoint date for each of the patients\n",
    "num_years as (\n",
    "SELECT cp.person_id, ((\n",
    "\tgreatest(last_vis, last_proc, last_drug, last_meas)::date -\n",
    "\tleast(first_vis, first_proc, first_drug, first_meas)::date)/365.25)\n",
    "\t AS num_years\t\n",
    "FROM canc_pats cp\n",
    "INNER JOIN vis_max_min vmm ON cp.person_id = vmm.person_id\n",
    "INNER JOIN proc_max_min pmm ON cp.person_id = pmm.person_id\n",
    "INNER JOIN drug_max_min dmm ON cp.person_id = dmm.person_id\n",
    "INNER JOIN meas_max_min mmm ON cp.person_id = mmm.person_id\n",
    "),\n",
    "\n",
    "-- figuring out the start of the dx\n",
    "dx_date AS (\n",
    "SELECT person_id, MIN(condition_start_datetime) AS pat_dx_date\n",
    "FROM omop.condition_occurrence co\n",
    "WHERE co.person_id IN (SELECT person_id FROM canc_pats) AND\n",
    "co.condition_concept_id IN (SELECT cond_conc_id FROM stand_conc)\n",
    "GROUP BY co.person_id\n",
    ")\n",
    "\n",
    "-- working to make a table 1\n",
    "-- pulling races, genders, and ethnicities for each patient, also age at dx\n",
    "SELECT cp.person_id, c1.concept_name AS race, c2.concept_name AS gend, c3.concept_name AS ethn,\n",
    "(dd.death_datetime - op.birth_datetime)/365.25 AS death_age, \n",
    "CASE WHEN cd.person_id is NULL THEN '0' ELSE '1' END AS pat_dec\n",
    "FROM canc_pats cp\n",
    "INNER JOIN omop.person op on OP.person_id = cp.person_id\n",
    "INNER JOIN omop.concept c1 on c1.concept_id = op.race_concept_id -- finding the race\n",
    "INNER JOIN omop.concept c2 on c2.concept_id = op.gender_concept_id -- finding gender\n",
    "INNER JOIN omop.concept c3 on c3.concept_id = op.ethnicity_concept_id -- finding ethnicity\n",
    "LEFT JOIN death_date as dd on cp.person_id = dd.person_id -- finding age at death (if we have record of death)\n",
    "LEFT JOIN canc_deaths cd on cp.person_id = cd.person_id  -- finding deaths\n",
    "\"\"\""
   ]
  },
  {
   "cell_type": "code",
   "execution_count": 4,
   "id": "329e8f69",
   "metadata": {},
   "outputs": [],
   "source": [
    "table1 = pd.read_sql_query(sqlalchemy.text(query), engine)"
   ]
  },
  {
   "cell_type": "code",
   "execution_count": 18,
   "id": "4003fcb7",
   "metadata": {},
   "outputs": [
    {
     "data": {
      "text/plain": [
       "White                     154\n",
       "African American           24\n",
       "Unknown racial group       16\n",
       "Other ethnic non-mixed      7\n",
       "Asian                       5\n",
       "Hispanic                    4\n",
       "Chinese                     2\n",
       "European                    1\n",
       "Caribbean Island            1\n",
       "Asian Indian                1\n",
       "African                     1\n",
       "Vietnamese                  1\n",
       "Name: race, dtype: int64"
      ]
     },
     "execution_count": 18,
     "metadata": {},
     "output_type": "execute_result"
    }
   ],
   "source": [
    "table1[\"race\"].value_counts(normalize=False)"
   ]
  },
  {
   "cell_type": "code",
   "execution_count": 8,
   "id": "2bc7dcce",
   "metadata": {},
   "outputs": [
    {
     "data": {
      "text/plain": [
       "White                     0.709677\n",
       "African American          0.110599\n",
       "Unknown racial group      0.073733\n",
       "Other ethnic non-mixed    0.032258\n",
       "Asian                     0.023041\n",
       "Hispanic                  0.018433\n",
       "Chinese                   0.009217\n",
       "European                  0.004608\n",
       "Caribbean Island          0.004608\n",
       "Asian Indian              0.004608\n",
       "African                   0.004608\n",
       "Vietnamese                0.004608\n",
       "Name: race, dtype: float64"
      ]
     },
     "execution_count": 8,
     "metadata": {},
     "output_type": "execute_result"
    }
   ],
   "source": [
    "table1[\"race\"].value_counts(normalize=True)"
   ]
  },
  {
   "cell_type": "code",
   "execution_count": null,
   "id": "640962ce",
   "metadata": {},
   "outputs": [],
   "source": [
    "table1[\"gend\"].value_counts(normalize=False)"
   ]
  },
  {
   "cell_type": "code",
   "execution_count": 10,
   "id": "03209130",
   "metadata": {
    "scrolled": true
   },
   "outputs": [
    {
     "data": {
      "text/plain": [
       "MALE      0.557604\n",
       "FEMALE    0.442396\n",
       "Name: gend, dtype: float64"
      ]
     },
     "execution_count": 10,
     "metadata": {},
     "output_type": "execute_result"
    }
   ],
   "source": [
    "table1[\"gend\"].value_counts(normalize=True)"
   ]
  },
  {
   "cell_type": "code",
   "execution_count": 19,
   "id": "5c9f2e5e",
   "metadata": {},
   "outputs": [
    {
     "data": {
      "text/plain": [
       "1    124\n",
       "0     93\n",
       "Name: pat_dec, dtype: int64"
      ]
     },
     "execution_count": 19,
     "metadata": {},
     "output_type": "execute_result"
    }
   ],
   "source": [
    "table1[\"pat_dec\"].value_counts(normalize=False)"
   ]
  },
  {
   "cell_type": "code",
   "execution_count": 15,
   "id": "321367fb",
   "metadata": {},
   "outputs": [
    {
     "data": {
      "text/plain": [
       "1    0.571429\n",
       "0    0.428571\n",
       "Name: pat_dec, dtype: float64"
      ]
     },
     "execution_count": 15,
     "metadata": {},
     "output_type": "execute_result"
    }
   ],
   "source": [
    "table1[\"pat_dec\"].value_counts(normalize=True)"
   ]
  },
  {
   "cell_type": "code",
   "execution_count": 17,
   "id": "c12f8056",
   "metadata": {},
   "outputs": [
    {
     "data": {
      "text/plain": [
       "Timedelta('113 days 03:14:21.266476734')"
      ]
     },
     "execution_count": 17,
     "metadata": {},
     "output_type": "execute_result"
    }
   ],
   "source": [
    "table1[\"death_age\"].mean()"
   ]
  },
  {
   "cell_type": "code",
   "execution_count": null,
   "id": "a89ac62c",
   "metadata": {},
   "outputs": [],
   "source": []
  }
 ],
 "metadata": {
  "kernelspec": {
   "display_name": "Python 3 (ipykernel)",
   "language": "python",
   "name": "python3"
  },
  "language_info": {
   "codemirror_mode": {
    "name": "ipython",
    "version": 3
   },
   "file_extension": ".py",
   "mimetype": "text/x-python",
   "name": "python",
   "nbconvert_exporter": "python",
   "pygments_lexer": "ipython3",
   "version": "3.9.7"
  }
 },
 "nbformat": 4,
 "nbformat_minor": 5
}
